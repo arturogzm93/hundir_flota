{
 "cells": [
  {
   "cell_type": "code",
   "execution_count": 60,
   "metadata": {},
   "outputs": [],
   "source": [
    "import numpy as np"
   ]
  },
  {
   "cell_type": "code",
   "execution_count": 61,
   "metadata": {},
   "outputs": [],
   "source": [
    "# CONSTANTES\n",
    "\n",
    "tablero_j1 = np.full((10,10), ' ')\n",
    "tablero_j2 = np.full((10,10), ' ')\n",
    "tablero_pc1 = np.full((10,10), ' ')\n",
    "tablero_pc2 = np.full((10,10), ' ')\n",
    "\n",
    "eslora_1 = 1 #x4\n",
    "eslora_2 = 2 #x3\n",
    "eslora_3 = 3 #x2\n",
    "eslora_4 = 4 #x1\n",
    "\n",
    "vidas_j = 20 \n",
    "vida_pc = 20"
   ]
  },
  {
   "cell_type": "code",
   "execution_count": 62,
   "metadata": {},
   "outputs": [
    {
     "name": "stdout",
     "output_type": "stream",
     "text": [
      "[['O' ' ' ' ' ' ' ' ' ' ' ' ' ' ' ' ' ' ']\n",
      " ['O' ' ' ' ' ' ' ' ' ' ' ' ' ' ' ' ' ' ']\n",
      " ['O' ' ' ' ' 'O' ' ' 'O' ' ' ' ' 'O' ' ']\n",
      " ['O' ' ' ' ' 'O' ' ' 'O' ' ' ' ' ' ' ' ']\n",
      " [' ' ' ' ' ' ' ' ' ' 'O' ' ' ' ' ' ' ' ']\n",
      " [' ' ' ' 'O' ' ' ' ' ' ' 'O' 'O' ' ' ' ']\n",
      " [' ' ' ' ' ' ' ' ' ' ' ' ' ' ' ' ' ' ' ']\n",
      " [' ' ' ' ' ' ' ' 'O' 'O' ' ' ' ' ' ' ' ']\n",
      " [' ' ' ' ' ' ' ' ' ' ' ' ' ' ' ' ' ' 'O']\n",
      " [' ' ' ' 'O' 'O' 'O' ' ' ' ' ' ' 'O' ' ']]\n"
     ]
    }
   ],
   "source": [
    "'''\n",
    "TABLERO J1\n",
    "'''\n",
    "tablero_j1[0:4, 0] = 'O' # eslora 4\n",
    "tablero_j1[2:5, 5] = 'O' # eslora 3\n",
    "tablero_j1[-1, 2:5] = 'O' # eslora 3\n",
    "tablero_j1[5, 6:8] = 'O' # eslora 2\n",
    "tablero_j1[-3, 4:6] = 'O' # eslora 2\n",
    "tablero_j1[2:4, 3] = 'O' # es 2\n",
    "tablero_j1[5, 2] = 'O' # es 1\n",
    "tablero_j1[2, -2] = 'O' # es 1\n",
    "tablero_j1[8, -1] = 'O' # es 1\n",
    "tablero_j1[9, 8] = 'O' # es 1\n",
    "print(tablero_j1)"
   ]
  },
  {
   "cell_type": "code",
   "execution_count": 63,
   "metadata": {},
   "outputs": [
    {
     "name": "stdout",
     "output_type": "stream",
     "text": [
      "[[' ' ' ' ' ' 'O' 'O' ' ' ' ' ' ' 'O' ' ']\n",
      " [' ' ' ' ' ' ' ' ' ' ' ' ' ' ' ' 'O' ' ']\n",
      " [' ' 'O' ' ' ' ' ' ' ' ' ' ' ' ' 'O' ' ']\n",
      " [' ' 'O' ' ' ' ' ' ' ' ' 'O' ' ' ' ' ' ']\n",
      " [' ' ' ' ' ' ' ' ' ' ' ' ' ' ' ' ' ' 'O']\n",
      " [' ' ' ' 'O' 'O' 'O' 'O' ' ' ' ' ' ' ' ']\n",
      " [' ' ' ' ' ' ' ' ' ' ' ' ' ' ' ' ' ' ' ']\n",
      " [' ' ' ' 'O' ' ' ' ' ' ' ' ' ' ' ' ' ' ']\n",
      " [' ' ' ' 'O' ' ' ' ' ' ' 'O' 'O' 'O' ' ']\n",
      " ['O' ' ' ' ' ' ' 'O' ' ' ' ' ' ' ' ' ' ']]\n"
     ]
    }
   ],
   "source": [
    "'''\n",
    "TABLERO PC1\n",
    "'''\n",
    "tablero_pc1[5, 2:6] = 'O' # eslora 4\n",
    "tablero_pc1[0:3, 8] = 'O' # eslora 3\n",
    "tablero_pc1[8, 6:9] = 'O' # eslora 3\n",
    "tablero_pc1[7:9, 2] = 'O' # eslora 2\n",
    "tablero_pc1[0, 3:5] = 'O' # eslora 2\n",
    "tablero_pc1[2:4, 1] = 'O' # es 2\n",
    "tablero_pc1[3, -4] = 'O' # es 1\n",
    "tablero_pc1[9, 0] = 'O' # es 1\n",
    "tablero_pc1[9, 4] = 'O' # es 1\n",
    "tablero_pc1[4, 9] = 'O' # es 1\n",
    "print(tablero_pc1)"
   ]
  },
  {
   "cell_type": "code",
   "execution_count": null,
   "metadata": {
    "jupyter": {
     "source_hidden": true
    }
   },
   "outputs": [],
   "source": [
    "'''\n",
    "FUNCIONES\n",
    "'''\n",
    "import time\n",
    "\n",
    "# pip install IPython\n",
    "'''\n",
    "from IPython.display import clear_output\n",
    "clear_output(wait=True)\n",
    "'''\n",
    "\n",
    "def iniciar_tablero():\n",
    "    \n",
    "    tablero_j1[0:4, 0] = 'O' # eslora 4\n",
    "    tablero_j1[2:5, 5] = 'O' # eslora 3\n",
    "    tablero_j1[-1, 2:5] = 'O' # eslora 3\n",
    "    tablero_j1[5, 6:8] = 'O' # eslora 2\n",
    "    tablero_j1[-3, 4:6] = 'O' # eslora 2\n",
    "    tablero_j1[2:4, 3] = 'O' # es 2\n",
    "    tablero_j1[5:6, 2] = 'O' # es 1\n",
    "    tablero_j1[2:3, -2] = 'O' # es 1\n",
    "    tablero_j1[8:9, -1] = 'O' # es 1\n",
    "    tablero_j1[9, 8:9] = 'O' # es 1\n",
    "       \n",
    "    return tablero_j1\n",
    "    \n",
    "    tablero_pc1[5, 2:6] = 'O' # eslora 4\n",
    "    tablero_pc1[0:3, 8] = 'O' # eslora 3\n",
    "    tablero_pc1[8, 6:9] = 'O' # eslora 3\n",
    "    tablero_pc1[7:9, 2] = 'O' # eslora 2\n",
    "    tablero_pc1[0, 3:5] = 'O' # eslora 2\n",
    "    tablero_pc1[2:4, 1] = 'O' # es 2\n",
    "    tablero_pc1[3, -4] = 'O' # es 1\n",
    "    tablero_pc1[9, 0] = 'O' # es 1\n",
    "    tablero_pc1[9, 4] = 'O' # es 1\n",
    "    tablero_pc1[4, 9] = 'O' # es 1\n",
    "    \n",
    "def buscar_coord_jug():\n",
    "    print('TABLERO JUGADOR\\n', tablero_j1)\n",
    "    print('\\n')\n",
    "    print('TABLERO DISPAROS\\n', tablero_j2)\n",
    "    fila = int(input('Introducir coordenada de la fila: '))\n",
    "    columna = int(input('Introducir coordenada de la columna: '))\n",
    "    \n",
    "\n",
    "    if tablero_pc1[fila, columna] == 'O':\n",
    "\n",
    "        global vidas_pc\n",
    "        vidas_pc -= 1\n",
    "        tablero_pc1[fila, columna] = 'X'\n",
    "        tablero_j2[fila, columna] = 'X'\n",
    "        print('TOCADO')\n",
    "        print(tablero_j2)\n",
    "\n",
    "        clear_output()\n",
    "        buscar_coord_jug()\n",
    "\n",
    "    else:\n",
    "\n",
    "        tablero_pc1[fila, columna] = 'A'\n",
    "        tablero_j2[fila, columna] = 'A'\n",
    "        print('AGUA')\n",
    "        print(tablero_j2)\n",
    "\n",
    "        clear_output()\n",
    "        buscar_coord_pc()\n",
    "\n",
    "def buscar_coord_pc():\n",
    "    time.sleep(2)\n",
    "    fila = np.random.randint(0,10)\n",
    "    columna = np.random.randint(0,10)\n",
    "\n",
    "    if tablero_j1[fila, columna] == 'O':\n",
    "        \n",
    "        global vidas_j\n",
    "        tablero_j1[fila, columna] = 'X'\n",
    "        tablero_pc2[fila, columna] = 'X'\n",
    "        print(tablero_pc2)\n",
    "        vidas_j -= 1\n",
    "\n",
    "        clear_output()\n",
    "        buscar_coord_pc()\n",
    "\n",
    "    else:\n",
    "\n",
    "        tablero_j1[fila, columna] = 'A'\n",
    "        tablero_pc2[fila, columna] = 'A'\n",
    "        print(tablero_pc2)\n",
    "\n",
    "        clear_output()\n",
    "        buscar_coord_jug()  "
   ]
  },
  {
   "cell_type": "code",
   "execution_count": 64,
   "metadata": {},
   "outputs": [],
   "source": [
    "'''\n",
    "FUNCIONES PRUEBA\n",
    "'''\n",
    "import time\n",
    "\n",
    "# pip install IPython\n",
    "\n",
    "from IPython.display import clear_output\n",
    "clear_output(wait=True)\n",
    "\n",
    "\n",
    "def iniciar_tablero():\n",
    "    \n",
    "    tablero_j1[0:4, 0] = 'O' # eslora 4\n",
    "    tablero_j1[2:5, 5] = 'O' # eslora 3\n",
    "    tablero_j1[-1, 2:5] = 'O' # eslora 3\n",
    "    tablero_j1[5, 6:8] = 'O' # eslora 2\n",
    "    tablero_j1[-3, 4:6] = 'O' # eslora 2\n",
    "    tablero_j1[2:4, 3] = 'O' # es 2\n",
    "    tablero_j1[5:6, 2] = 'O' # es 1\n",
    "    tablero_j1[2:3, -2] = 'O' # es 1\n",
    "    tablero_j1[8:9, -1] = 'O' # es 1\n",
    "    tablero_j1[9, 8:9] = 'O' # es 1\n",
    "       \n",
    "    return tablero_j1\n",
    "    \n",
    "    tablero_pc1[5, 2:6] = 'O' # eslora 4\n",
    "    tablero_pc1[0:3, 8] = 'O' # eslora 3\n",
    "    tablero_pc1[8, 6:9] = 'O' # eslora 3\n",
    "    tablero_pc1[7:9, 2] = 'O' # eslora 2\n",
    "    tablero_pc1[0, 3:5] = 'O' # eslora 2\n",
    "    tablero_pc1[2:4, 1] = 'O' # es 2\n",
    "    tablero_pc1[3, -4] = 'O' # es 1\n",
    "    tablero_pc1[9, 0] = 'O' # es 1\n",
    "    tablero_pc1[9, 4] = 'O' # es 1\n",
    "    tablero_pc1[4, 9] = 'O' # es 1\n"
   ]
  },
  {
   "cell_type": "code",
   "execution_count": 65,
   "metadata": {},
   "outputs": [
    {
     "data": {
      "text/plain": [
       "array([['O', ' ', ' ', ' ', ' ', ' ', ' ', ' ', ' ', ' '],\n",
       "       ['O', ' ', ' ', ' ', ' ', ' ', ' ', ' ', ' ', ' '],\n",
       "       ['O', ' ', ' ', 'O', ' ', 'O', ' ', ' ', 'O', ' '],\n",
       "       ['O', ' ', ' ', 'O', ' ', 'O', ' ', ' ', ' ', ' '],\n",
       "       [' ', ' ', ' ', ' ', ' ', 'O', ' ', ' ', ' ', ' '],\n",
       "       [' ', ' ', 'O', ' ', ' ', ' ', 'O', 'O', ' ', ' '],\n",
       "       [' ', ' ', ' ', ' ', ' ', ' ', ' ', ' ', ' ', ' '],\n",
       "       [' ', ' ', ' ', ' ', 'O', 'O', ' ', ' ', ' ', ' '],\n",
       "       [' ', ' ', ' ', ' ', ' ', ' ', ' ', ' ', ' ', 'O'],\n",
       "       [' ', ' ', 'O', 'O', 'O', ' ', ' ', ' ', 'O', ' ']], dtype='<U1')"
      ]
     },
     "execution_count": 65,
     "metadata": {},
     "output_type": "execute_result"
    }
   ],
   "source": [
    "iniciar_tablero()"
   ]
  },
  {
   "cell_type": "code",
   "execution_count": 79,
   "metadata": {},
   "outputs": [],
   "source": [
    "def buscar_coord(fila, columna):\n",
    "    \n",
    "\n",
    "   \n",
    "    if fila != None and columna != None:\n",
    "        \n",
    "        while tablero_pc1[fila, columna] == 'O':\n",
    "            \n",
    "            tablero_pc1[fila, columna] = 'X'\n",
    "            tablero_j2[fila, columna] = 'X'\n",
    "                        \n",
    "            clear_output()\n",
    "            print('TOCADO')\n",
    "            print(tablero_j2)\n",
    "            \n",
    "            fila = int(input('Introduce fila: '))\n",
    "            columna = int(input('Introduce columna: '))\n",
    "            \n",
    "            return buscar_coord(fila, columna)\n",
    "\n",
    "        else:\n",
    "\n",
    "            tablero_pc1[fila, columna] = 'A'\n",
    "            tablero_j2[fila, columna] = 'A'\n",
    "                     \n",
    "            clear_output()\n",
    "            print('AGUA')\n",
    "            print(tablero_j2)\n",
    "            \n",
    "            time.sleep(5)\n",
    "            fila = np.random.randint(0, 10)\n",
    "            columna = np.random.randint(0, 10)\n",
    "            \n",
    "            while tablero_j1[fila, columna] == 'O':\n",
    "\n",
    "                tablero_j1[fila, columna] = 'X'\n",
    "                tablero_pc2[fila, columna] = 'X'\n",
    "                print('TABLERO JUGADOR\\n', tablero_j1)\n",
    "                \n",
    "                time.sleep(5)\n",
    "                clear_output()\n",
    "                \n",
    "                fila = np.random.randint(0, 10)\n",
    "                columna = np.random.randint(0, 10)\n",
    "                \n",
    "                buscar_coord(fila, columna)\n",
    "\n",
    "            else:\n",
    "\n",
    "                tablero_j1[fila, columna] = 'A'\n",
    "                tablero_pc2[fila, columna] = 'A'\n",
    "                print('TABLERO JUGADOR\\n', tablero_j1)\n",
    "\n",
    "                \n",
    "                time.sleep(5)\n",
    "                fila = int(input('Introduce fila: '))\n",
    "                columna = int(input('Introduce columna: '))\n",
    "            \n",
    "                return buscar_coord(fila, columna)"
   ]
  },
  {
   "cell_type": "code",
   "execution_count": 80,
   "metadata": {},
   "outputs": [
    {
     "name": "stdout",
     "output_type": "stream",
     "text": [
      "[['A' ' ' ' ' 'O' 'O' ' ' ' ' ' ' 'O' ' ']\n",
      " [' ' 'A' 'A' ' ' ' ' ' ' ' ' ' ' 'O' ' ']\n",
      " [' ' 'O' ' ' ' ' ' ' ' ' ' ' ' ' 'X' ' ']\n",
      " [' ' 'O' ' ' ' ' ' ' ' ' 'O' ' ' ' ' ' ']\n",
      " [' ' ' ' ' ' ' ' ' ' ' ' ' ' ' ' ' ' 'X']\n",
      " [' ' 'A' 'X' 'X' 'X' 'X' ' ' ' ' ' ' ' ']\n",
      " [' ' ' ' ' ' ' ' ' ' 'A' ' ' ' ' ' ' ' ']\n",
      " [' ' 'A' 'O' ' ' ' ' ' ' ' ' ' ' ' ' ' ']\n",
      " [' ' ' ' 'X' 'A' ' ' ' ' 'O' 'O' 'O' ' ']\n",
      " ['O' 'A' 'A' ' ' 'X' ' ' ' ' ' ' ' ' ' ']]\n"
     ]
    }
   ],
   "source": [
    "print(tablero_pc1)"
   ]
  },
  {
   "cell_type": "code",
   "execution_count": 81,
   "metadata": {},
   "outputs": [
    {
     "name": "stdout",
     "output_type": "stream",
     "text": [
      "AGUA\n",
      "[['A' ' ' ' ' ' ' ' ' ' ' ' ' ' ' ' ' ' ']\n",
      " [' ' 'A' 'A' ' ' ' ' ' ' ' ' ' ' ' ' ' ']\n",
      " [' ' ' ' ' ' ' ' ' ' ' ' ' ' ' ' 'X' ' ']\n",
      " [' ' ' ' ' ' ' ' ' ' ' ' ' ' ' ' ' ' ' ']\n",
      " [' ' ' ' ' ' ' ' ' ' ' ' ' ' ' ' ' ' 'X']\n",
      " [' ' 'A' 'X' 'X' 'X' 'X' ' ' ' ' ' ' ' ']\n",
      " [' ' ' ' ' ' ' ' ' ' 'A' 'A' ' ' ' ' ' ']\n",
      " [' ' 'A' ' ' ' ' ' ' ' ' ' ' ' ' ' ' ' ']\n",
      " [' ' ' ' 'X' 'A' ' ' ' ' ' ' ' ' ' ' ' ']\n",
      " [' ' 'A' 'A' ' ' 'X' ' ' ' ' ' ' ' ' ' ']]\n",
      "TABLERO JUGADOR\n",
      " [['O' ' ' ' ' ' ' ' ' ' ' ' ' ' ' ' ' ' ']\n",
      " ['O' ' ' ' ' ' ' ' ' ' ' ' ' ' ' ' ' ' ']\n",
      " ['O' 'A' ' ' 'X' ' ' 'O' ' ' ' ' 'O' ' ']\n",
      " ['O' 'A' ' ' 'O' ' ' 'O' 'A' ' ' ' ' ' ']\n",
      " [' ' ' ' ' ' ' ' ' ' 'O' ' ' ' ' 'A' ' ']\n",
      " [' ' ' ' 'O' ' ' ' ' ' ' 'O' 'X' 'A' ' ']\n",
      " [' ' ' ' ' ' ' ' ' ' ' ' ' ' 'A' ' ' ' ']\n",
      " [' ' ' ' ' ' ' ' 'X' 'X' ' ' ' ' ' ' ' ']\n",
      " [' ' ' ' ' ' ' ' ' ' ' ' ' ' ' ' ' ' 'O']\n",
      " [' ' ' ' 'O' 'O' 'O' ' ' ' ' ' ' 'O' ' ']]\n"
     ]
    },
    {
     "ename": "KeyboardInterrupt",
     "evalue": "Interrupted by user",
     "output_type": "error",
     "traceback": [
      "\u001b[1;31m---------------------------------------------------------------------------\u001b[0m",
      "\u001b[1;31mKeyboardInterrupt\u001b[0m                         Traceback (most recent call last)",
      "\u001b[1;32m<ipython-input-81-5622855a9f65>\u001b[0m in \u001b[0;36m<module>\u001b[1;34m\u001b[0m\n\u001b[0;32m      2\u001b[0m \u001b[0mcolumna\u001b[0m \u001b[1;33m=\u001b[0m \u001b[0mint\u001b[0m\u001b[1;33m(\u001b[0m\u001b[0minput\u001b[0m\u001b[1;33m(\u001b[0m\u001b[1;34m'Introduce columna: '\u001b[0m\u001b[1;33m)\u001b[0m\u001b[1;33m)\u001b[0m\u001b[1;33m\u001b[0m\u001b[1;33m\u001b[0m\u001b[0m\n\u001b[0;32m      3\u001b[0m \u001b[1;33m\u001b[0m\u001b[0m\n\u001b[1;32m----> 4\u001b[1;33m \u001b[0mbuscar_coord\u001b[0m\u001b[1;33m(\u001b[0m\u001b[0mfila\u001b[0m\u001b[1;33m,\u001b[0m \u001b[0mcolumna\u001b[0m\u001b[1;33m)\u001b[0m\u001b[1;33m\u001b[0m\u001b[1;33m\u001b[0m\u001b[0m\n\u001b[0m",
      "\u001b[1;32m<ipython-input-79-2892456d57b8>\u001b[0m in \u001b[0;36mbuscar_coord\u001b[1;34m(fila, columna)\u001b[0m\n\u001b[0;32m     54\u001b[0m \u001b[1;33m\u001b[0m\u001b[0m\n\u001b[0;32m     55\u001b[0m                 \u001b[0mtime\u001b[0m\u001b[1;33m.\u001b[0m\u001b[0msleep\u001b[0m\u001b[1;33m(\u001b[0m\u001b[1;36m5\u001b[0m\u001b[1;33m)\u001b[0m\u001b[1;33m\u001b[0m\u001b[1;33m\u001b[0m\u001b[0m\n\u001b[1;32m---> 56\u001b[1;33m                 \u001b[0mfila\u001b[0m \u001b[1;33m=\u001b[0m \u001b[0mint\u001b[0m\u001b[1;33m(\u001b[0m\u001b[0minput\u001b[0m\u001b[1;33m(\u001b[0m\u001b[1;34m'Introduce fila: '\u001b[0m\u001b[1;33m)\u001b[0m\u001b[1;33m)\u001b[0m\u001b[1;33m\u001b[0m\u001b[1;33m\u001b[0m\u001b[0m\n\u001b[0m\u001b[0;32m     57\u001b[0m                 \u001b[0mcolumna\u001b[0m \u001b[1;33m=\u001b[0m \u001b[0mint\u001b[0m\u001b[1;33m(\u001b[0m\u001b[0minput\u001b[0m\u001b[1;33m(\u001b[0m\u001b[1;34m'Introduce columna: '\u001b[0m\u001b[1;33m)\u001b[0m\u001b[1;33m)\u001b[0m\u001b[1;33m\u001b[0m\u001b[1;33m\u001b[0m\u001b[0m\n\u001b[0;32m     58\u001b[0m \u001b[1;33m\u001b[0m\u001b[0m\n",
      "\u001b[1;32m~\\anaconda3\\lib\\site-packages\\ipykernel\\kernelbase.py\u001b[0m in \u001b[0;36mraw_input\u001b[1;34m(self, prompt)\u001b[0m\n\u001b[0;32m    858\u001b[0m                 \u001b[1;34m\"raw_input was called, but this frontend does not support input requests.\"\u001b[0m\u001b[1;33m\u001b[0m\u001b[1;33m\u001b[0m\u001b[0m\n\u001b[0;32m    859\u001b[0m             )\n\u001b[1;32m--> 860\u001b[1;33m         return self._input_request(str(prompt),\n\u001b[0m\u001b[0;32m    861\u001b[0m             \u001b[0mself\u001b[0m\u001b[1;33m.\u001b[0m\u001b[0m_parent_ident\u001b[0m\u001b[1;33m,\u001b[0m\u001b[1;33m\u001b[0m\u001b[1;33m\u001b[0m\u001b[0m\n\u001b[0;32m    862\u001b[0m             \u001b[0mself\u001b[0m\u001b[1;33m.\u001b[0m\u001b[0m_parent_header\u001b[0m\u001b[1;33m,\u001b[0m\u001b[1;33m\u001b[0m\u001b[1;33m\u001b[0m\u001b[0m\n",
      "\u001b[1;32m~\\anaconda3\\lib\\site-packages\\ipykernel\\kernelbase.py\u001b[0m in \u001b[0;36m_input_request\u001b[1;34m(self, prompt, ident, parent, password)\u001b[0m\n\u001b[0;32m    902\u001b[0m             \u001b[1;32mexcept\u001b[0m \u001b[0mKeyboardInterrupt\u001b[0m\u001b[1;33m:\u001b[0m\u001b[1;33m\u001b[0m\u001b[1;33m\u001b[0m\u001b[0m\n\u001b[0;32m    903\u001b[0m                 \u001b[1;31m# re-raise KeyboardInterrupt, to truncate traceback\u001b[0m\u001b[1;33m\u001b[0m\u001b[1;33m\u001b[0m\u001b[1;33m\u001b[0m\u001b[0m\n\u001b[1;32m--> 904\u001b[1;33m                 \u001b[1;32mraise\u001b[0m \u001b[0mKeyboardInterrupt\u001b[0m\u001b[1;33m(\u001b[0m\u001b[1;34m\"Interrupted by user\"\u001b[0m\u001b[1;33m)\u001b[0m \u001b[1;32mfrom\u001b[0m \u001b[1;32mNone\u001b[0m\u001b[1;33m\u001b[0m\u001b[1;33m\u001b[0m\u001b[0m\n\u001b[0m\u001b[0;32m    905\u001b[0m             \u001b[1;32mexcept\u001b[0m \u001b[0mException\u001b[0m \u001b[1;32mas\u001b[0m \u001b[0me\u001b[0m\u001b[1;33m:\u001b[0m\u001b[1;33m\u001b[0m\u001b[1;33m\u001b[0m\u001b[0m\n\u001b[0;32m    906\u001b[0m                 \u001b[0mself\u001b[0m\u001b[1;33m.\u001b[0m\u001b[0mlog\u001b[0m\u001b[1;33m.\u001b[0m\u001b[0mwarning\u001b[0m\u001b[1;33m(\u001b[0m\u001b[1;34m\"Invalid Message:\"\u001b[0m\u001b[1;33m,\u001b[0m \u001b[0mexc_info\u001b[0m\u001b[1;33m=\u001b[0m\u001b[1;32mTrue\u001b[0m\u001b[1;33m)\u001b[0m\u001b[1;33m\u001b[0m\u001b[1;33m\u001b[0m\u001b[0m\n",
      "\u001b[1;31mKeyboardInterrupt\u001b[0m: Interrupted by user"
     ]
    }
   ],
   "source": [
    "\n",
    "\n",
    "fila = int(input('Introduce fila: '))\n",
    "columna = int(input('Introduce columna: '))\n",
    "\n",
    "buscar_coord(fila, columna)"
   ]
  },
  {
   "cell_type": "code",
   "execution_count": null,
   "metadata": {},
   "outputs": [],
   "source": [
    "print('''                                                                                                                      \n",
    ",-----.  ,--.                                     ,--.   ,--.                                                         \n",
    "|  |) /_ `--' ,---. ,--,--,--.  ,--.,---. ,--,--, `--' ,-|  | ,---.      ,--,--.                                      \n",
    "|  .-.  \\,--.| .-. :|      \\  `'  /| .-. :|      \\,--.' .-. || .-. |    ' ,-.  |                                      \n",
    "|  '--' /|  |\\   --.|  ||  |\\    / \\   --.|  ||  ||  |\\ `-' |' '-' '    \\ '-'  |                                      \n",
    "`------' `--' `----'`--''--' `--'   `----'`--''--'`--' `---'  `---'      `--`--'                                      \n",
    "                                                                                                                      \n",
    "                                                                                                                      \n",
    ",--.  ,--.,--. ,--.,--.  ,--.,------.  ,--.,------.     ,--.     ,---.      ,------.,--.    ,-----.,--------. ,---.   \n",
    "|  '--'  ||  | |  ||  ,'.|  ||  .-.  \\ |  ||  .--. '    |  |    /  O  \\     |  .---'|  |   '  .-.  '--.  .--'/  O  \\  \n",
    "|  .--.  ||  | |  ||  |' '  ||  |  \\  :|  ||  '--'.'    |  |   |  .-.  |    |  `--, |  |   |  | |  |  |  |  |  .-.  | \n",
    "|  |  |  |'  '-'  '|  | `   ||  '--'  /|  ||  |\\  \\     |  '--.|  | |  |    |  |`   |  '--.'  '-'  '  |  |  |  | |  | \n",
    "`--'  `--' `-----' `--'  `--'`-------' `--'`--' '--'    `-----'`--' `--'    `--'    `-----' `-----'   `--'  `--' `--' \n",
    "                                                                                                                      ''')"
   ]
  },
  {
   "cell_type": "code",
   "execution_count": null,
   "metadata": {},
   "outputs": [],
   "source": []
  }
 ],
 "metadata": {
  "kernelspec": {
   "display_name": "Python 3",
   "language": "python",
   "name": "python3"
  },
  "language_info": {
   "codemirror_mode": {
    "name": "ipython",
    "version": 3
   },
   "file_extension": ".py",
   "mimetype": "text/x-python",
   "name": "python",
   "nbconvert_exporter": "python",
   "pygments_lexer": "ipython3",
   "version": "3.8.5"
  }
 },
 "nbformat": 4,
 "nbformat_minor": 4
}
