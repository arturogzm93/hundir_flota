{
 "cells": [
  {
   "cell_type": "code",
   "execution_count": 2,
   "metadata": {},
   "outputs": [],
   "source": [
    "import numpy as np"
   ]
  },
  {
   "cell_type": "code",
   "execution_count": 18,
   "metadata": {},
   "outputs": [],
   "source": [
    "# CONSTANTES\n",
    "\n",
    "tablero_j1 = np.full((10,10), ' ')\n",
    "tablero_j2 = np.full((10,10), ' ')\n",
    "tablero_pc1 = np.full((10,10), ' ')\n",
    "tablero_pc2 = np.full((10,10), ' ')\n",
    "\n",
    "eslora_1 = 1 #x4\n",
    "eslora_2 = 2 #x3\n",
    "eslora_3 = 3 #x2\n",
    "eslora_4 = 4 #x1\n",
    "\n",
    "vidas_j = 20 \n",
    "vida_pc = 20"
   ]
  },
  {
   "cell_type": "code",
   "execution_count": 19,
   "metadata": {},
   "outputs": [
    {
     "name": "stdout",
     "output_type": "stream",
     "text": [
      "[['O' ' ' ' ' ' ' ' ' ' ' ' ' ' ' ' ' ' ']\n",
      " ['O' ' ' ' ' ' ' ' ' ' ' ' ' ' ' ' ' ' ']\n",
      " ['O' ' ' ' ' 'O' ' ' 'O' ' ' ' ' 'O' ' ']\n",
      " ['O' ' ' ' ' 'O' ' ' 'O' ' ' ' ' ' ' ' ']\n",
      " [' ' ' ' ' ' ' ' ' ' 'O' ' ' ' ' ' ' ' ']\n",
      " [' ' ' ' 'O' ' ' ' ' ' ' 'O' 'O' ' ' ' ']\n",
      " [' ' ' ' ' ' ' ' ' ' ' ' ' ' ' ' ' ' ' ']\n",
      " [' ' ' ' ' ' ' ' 'O' 'O' ' ' ' ' ' ' ' ']\n",
      " [' ' ' ' ' ' ' ' ' ' ' ' ' ' ' ' ' ' 'O']\n",
      " [' ' ' ' 'O' 'O' 'O' ' ' ' ' ' ' 'O' ' ']]\n"
     ]
    }
   ],
   "source": [
    "'''\n",
    "TABLERO J1\n",
    "'''\n",
    "tablero_j1[0:4, 0] = 'O' # eslora 4\n",
    "tablero_j1[2:5, 5] = 'O' # eslora 3\n",
    "tablero_j1[-1, 2:5] = 'O' # eslora 3\n",
    "tablero_j1[5, 6:8] = 'O' # eslora 2\n",
    "tablero_j1[-3, 4:6] = 'O' # eslora 2\n",
    "tablero_j1[2:4, 3] = 'O' # es 2\n",
    "tablero_j1[5, 2] = 'O' # es 1\n",
    "tablero_j1[2, -2] = 'O' # es 1\n",
    "tablero_j1[8, -1] = 'O' # es 1\n",
    "tablero_j1[9, 8] = 'O' # es 1\n",
    "print(tablero_j1)"
   ]
  },
  {
   "cell_type": "code",
   "execution_count": 20,
   "metadata": {},
   "outputs": [
    {
     "name": "stdout",
     "output_type": "stream",
     "text": [
      "[[' ' ' ' ' ' 'O' 'O' ' ' ' ' ' ' 'O' ' ']\n",
      " [' ' ' ' ' ' ' ' ' ' ' ' ' ' ' ' 'O' ' ']\n",
      " [' ' 'O' ' ' ' ' ' ' ' ' ' ' ' ' 'O' ' ']\n",
      " [' ' 'O' ' ' ' ' ' ' ' ' 'O' ' ' ' ' ' ']\n",
      " [' ' ' ' ' ' ' ' ' ' ' ' ' ' ' ' ' ' 'O']\n",
      " [' ' ' ' 'O' 'O' 'O' 'O' ' ' ' ' ' ' ' ']\n",
      " [' ' ' ' ' ' ' ' ' ' ' ' ' ' ' ' ' ' ' ']\n",
      " [' ' ' ' 'O' ' ' ' ' ' ' ' ' ' ' ' ' ' ']\n",
      " [' ' ' ' 'O' ' ' ' ' ' ' 'O' 'O' 'O' ' ']\n",
      " ['O' ' ' ' ' ' ' 'O' ' ' ' ' ' ' ' ' ' ']]\n"
     ]
    }
   ],
   "source": [
    "'''\n",
    "TABLERO PC1\n",
    "'''\n",
    "tablero_pc1[5, 2:6] = 'O' # eslora 4\n",
    "tablero_pc1[0:3, 8] = 'O' # eslora 3\n",
    "tablero_pc1[8, 6:9] = 'O' # eslora 3\n",
    "tablero_pc1[7:9, 2] = 'O' # eslora 2\n",
    "tablero_pc1[0, 3:5] = 'O' # eslora 2\n",
    "tablero_pc1[2:4, 1] = 'O' # es 2\n",
    "tablero_pc1[3, -4] = 'O' # es 1\n",
    "tablero_pc1[9, 0] = 'O' # es 1\n",
    "tablero_pc1[9, 4] = 'O' # es 1\n",
    "tablero_pc1[4, 9] = 'O' # es 1\n",
    "print(tablero_pc1)"
   ]
  },
  {
   "cell_type": "code",
   "execution_count": 35,
   "metadata": {},
   "outputs": [],
   "source": [
    "'''\n",
    "FUNCIONES\n",
    "'''\n",
    "import time\n",
    "\n",
    "# pip install IPython\n",
    "'''\n",
    "from IPython.display import clear_output\n",
    "clear_output(wait=True)\n",
    "'''\n",
    "\n",
    "def iniciar_tablero():\n",
    "    \n",
    "    tablero_j1[0:4, 0] = 'O' # eslora 4\n",
    "    tablero_j1[2:5, 5] = 'O' # eslora 3\n",
    "    tablero_j1[-1, 2:5] = 'O' # eslora 3\n",
    "    tablero_j1[5, 6:8] = 'O' # eslora 2\n",
    "    tablero_j1[-3, 4:6] = 'O' # eslora 2\n",
    "    tablero_j1[2:4, 3] = 'O' # es 2\n",
    "    tablero_j1[5:6, 2] = 'O' # es 1\n",
    "    tablero_j1[2:3, -2] = 'O' # es 1\n",
    "    tablero_j1[8:9, -1] = 'O' # es 1\n",
    "    tablero_j1[9, 8:9] = 'O' # es 1\n",
    "       \n",
    "    return tablero_j1\n",
    "    \n",
    "    tablero_pc1[5, 2:6] = 'O' # eslora 4\n",
    "    tablero_pc1[0:3, 8] = 'O' # eslora 3\n",
    "    tablero_pc1[8, 6:9] = 'O' # eslora 3\n",
    "    tablero_pc1[7:9, 2] = 'O' # eslora 2\n",
    "    tablero_pc1[0, 3:5] = 'O' # eslora 2\n",
    "    tablero_pc1[2:4, 1] = 'O' # es 2\n",
    "    tablero_pc1[3, -4] = 'O' # es 1\n",
    "    tablero_pc1[9, 0] = 'O' # es 1\n",
    "    tablero_pc1[9, 4] = 'O' # es 1\n",
    "    tablero_pc1[4, 9] = 'O' # es 1\n",
    "    \n",
    "def buscar_coord_jug():\n",
    "    print('TABLERO JUGADOR\\n', tablero_j1)\n",
    "    print('\\n')\n",
    "    print('TABLERO DISPAROS\\n', tablero_j2)\n",
    "    fila = int(input('Introducir coordenada de la fila: '))\n",
    "    columna = int(input('Introducir coordenada de la columna: '))\n",
    "    \n",
    "\n",
    "    if tablero_pc1[fila, columna] == 'O':\n",
    "\n",
    "        global vidas_pc\n",
    "        vidas_pc -= 1\n",
    "        tablero_pc1[fila, columna] = 'X'\n",
    "        tablero_j2[fila, columna] = 'X'\n",
    "        print('TOCADO')\n",
    "        print(tablero_j2)\n",
    "\n",
    "        clear_output()\n",
    "        buscar_coord_jug()\n",
    "\n",
    "    else:\n",
    "\n",
    "        tablero_pc1[fila, columna] = 'A'\n",
    "        tablero_j2[fila, columna] = 'A'\n",
    "        print('AGUA')\n",
    "        print(tablero_j2)\n",
    "\n",
    "        clear_output()\n",
    "        buscar_coord_pc()\n",
    "\n",
    "def buscar_coord_pc():\n",
    "    time.sleep(2)\n",
    "    fila = np.random.randint(0,10)\n",
    "    columna = np.random.randint(0,10)\n",
    "\n",
    "    if tablero_j1[fila, columna] == 'O':\n",
    "        \n",
    "        global vidas_j\n",
    "        tablero_j1[fila, columna] = 'X'\n",
    "        tablero_pc2[fila, columna] = 'X'\n",
    "        print(tablero_pc2)\n",
    "        vidas_j -= 1\n",
    "\n",
    "        clear_output()\n",
    "        buscar_coord_pc()\n",
    "\n",
    "    else:\n",
    "\n",
    "        tablero_j1[fila, columna] = 'A'\n",
    "        tablero_pc2[fila, columna] = 'A'\n",
    "        print(tablero_pc2)\n",
    "\n",
    "        clear_output()\n",
    "        buscar_coord_jug()  "
   ]
  },
  {
   "cell_type": "code",
   "execution_count": 25,
   "metadata": {
    "collapsed": true,
    "jupyter": {
     "outputs_hidden": true
    }
   },
   "outputs": [
    {
     "data": {
      "text/plain": [
       "array([['O', ' ', ' ', ' ', ' ', ' ', ' ', ' ', ' ', ' '],\n",
       "       ['O', ' ', ' ', ' ', ' ', ' ', ' ', ' ', ' ', ' '],\n",
       "       ['O', ' ', ' ', 'O', ' ', 'O', ' ', ' ', 'O', ' '],\n",
       "       ['O', ' ', ' ', 'O', ' ', 'O', ' ', ' ', ' ', ' '],\n",
       "       [' ', ' ', ' ', ' ', ' ', 'O', ' ', ' ', ' ', ' '],\n",
       "       [' ', ' ', 'O', ' ', ' ', ' ', 'O', 'O', ' ', ' '],\n",
       "       [' ', ' ', ' ', ' ', ' ', ' ', ' ', ' ', ' ', ' '],\n",
       "       [' ', ' ', ' ', ' ', 'O', 'O', ' ', ' ', ' ', ' '],\n",
       "       [' ', ' ', ' ', ' ', ' ', ' ', ' ', ' ', ' ', 'O'],\n",
       "       [' ', ' ', 'O', 'O', 'O', ' ', ' ', ' ', 'O', ' ']], dtype='<U1')"
      ]
     },
     "execution_count": 25,
     "metadata": {},
     "output_type": "execute_result"
    }
   ],
   "source": [
    "iniciar_tablero()"
   ]
  },
  {
   "cell_type": "code",
   "execution_count": 37,
   "metadata": {},
   "outputs": [
    {
     "name": "stdout",
     "output_type": "stream",
     "text": [
      "TABLERO JUGADOR\n",
      " [['X' ' ' ' ' ' ' ' ' ' ' ' ' ' ' ' ' ' ']\n",
      " ['O' ' ' ' ' ' ' 'A' ' ' ' ' ' ' ' ' ' ']\n",
      " ['X' ' ' ' ' 'O' ' ' 'O' ' ' ' ' 'O' ' ']\n",
      " ['O' ' ' ' ' 'O' ' ' 'O' ' ' ' ' ' ' ' ']\n",
      " [' ' ' ' ' ' ' ' ' ' 'O' ' ' ' ' ' ' ' ']\n",
      " [' ' ' ' 'O' ' ' ' ' ' ' 'O' 'O' ' ' ' ']\n",
      " [' ' ' ' ' ' ' ' ' ' ' ' ' ' ' ' ' ' ' ']\n",
      " [' ' ' ' ' ' ' ' 'O' 'O' ' ' ' ' ' ' ' ']\n",
      " [' ' ' ' ' ' 'A' ' ' ' ' ' ' ' ' ' ' 'O']\n",
      " [' ' ' ' 'O' 'O' 'O' ' ' ' ' ' ' 'O' ' ']]\n",
      "\n",
      "\n",
      "TABLERO DISPAROS\n",
      " [[' ' ' ' ' ' ' ' ' ' ' ' ' ' ' ' ' ' ' ']\n",
      " [' ' ' ' ' ' ' ' ' ' ' ' ' ' ' ' ' ' ' ']\n",
      " [' ' ' ' ' ' 'A' ' ' ' ' ' ' ' ' ' ' ' ']\n",
      " [' ' ' ' ' ' ' ' ' ' ' ' ' ' ' ' ' ' ' ']\n",
      " [' ' ' ' ' ' ' ' ' ' 'A' ' ' ' ' ' ' ' ']\n",
      " [' ' ' ' ' ' ' ' ' ' ' ' ' ' ' ' ' ' ' ']\n",
      " [' ' ' ' ' ' ' ' ' ' ' ' ' ' ' ' ' ' ' ']\n",
      " [' ' ' ' ' ' ' ' 'A' ' ' ' ' ' ' ' ' ' ']\n",
      " [' ' ' ' ' ' ' ' ' ' ' ' ' ' ' ' ' ' ' ']\n",
      " [' ' ' ' ' ' ' ' ' ' ' ' ' ' ' ' ' ' ' ']]\n"
     ]
    },
    {
     "name": "stdin",
     "output_type": "stream",
     "text": [
      "Introducir coordenada de la fila:  2\n",
      "Introducir coordenada de la columna:  a\n"
     ]
    },
    {
     "ename": "ValueError",
     "evalue": "invalid literal for int() with base 10: 'a'",
     "output_type": "error",
     "traceback": [
      "\u001b[0;31m---------------------------------------------------------------------------\u001b[0m",
      "\u001b[0;31mValueError\u001b[0m                                Traceback (most recent call last)",
      "\u001b[0;32m<ipython-input-37-cdd253e10703>\u001b[0m in \u001b[0;36m<module>\u001b[0;34m\u001b[0m\n\u001b[0;32m----> 1\u001b[0;31m \u001b[0mbuscar_coord_jug\u001b[0m\u001b[0;34m(\u001b[0m\u001b[0;34m)\u001b[0m\u001b[0;34m\u001b[0m\u001b[0;34m\u001b[0m\u001b[0m\n\u001b[0m",
      "\u001b[0;32m<ipython-input-35-27370a58bb5a>\u001b[0m in \u001b[0;36mbuscar_coord_jug\u001b[0;34m()\u001b[0m\n\u001b[1;32m     41\u001b[0m     \u001b[0mprint\u001b[0m\u001b[0;34m(\u001b[0m\u001b[0;34m'TABLERO DISPAROS\\n'\u001b[0m\u001b[0;34m,\u001b[0m \u001b[0mtablero_j2\u001b[0m\u001b[0;34m)\u001b[0m\u001b[0;34m\u001b[0m\u001b[0;34m\u001b[0m\u001b[0m\n\u001b[1;32m     42\u001b[0m     \u001b[0mfila\u001b[0m \u001b[0;34m=\u001b[0m \u001b[0mint\u001b[0m\u001b[0;34m(\u001b[0m\u001b[0minput\u001b[0m\u001b[0;34m(\u001b[0m\u001b[0;34m'Introducir coordenada de la fila: '\u001b[0m\u001b[0;34m)\u001b[0m\u001b[0;34m)\u001b[0m\u001b[0;34m\u001b[0m\u001b[0;34m\u001b[0m\u001b[0m\n\u001b[0;32m---> 43\u001b[0;31m     \u001b[0mcolumna\u001b[0m \u001b[0;34m=\u001b[0m \u001b[0mint\u001b[0m\u001b[0;34m(\u001b[0m\u001b[0minput\u001b[0m\u001b[0;34m(\u001b[0m\u001b[0;34m'Introducir coordenada de la columna: '\u001b[0m\u001b[0;34m)\u001b[0m\u001b[0;34m)\u001b[0m\u001b[0;34m\u001b[0m\u001b[0;34m\u001b[0m\u001b[0m\n\u001b[0m\u001b[1;32m     44\u001b[0m \u001b[0;34m\u001b[0m\u001b[0m\n\u001b[1;32m     45\u001b[0m     \u001b[0;32mtry\u001b[0m\u001b[0;34m:\u001b[0m\u001b[0;34m\u001b[0m\u001b[0;34m\u001b[0m\u001b[0m\n",
      "\u001b[0;31mValueError\u001b[0m: invalid literal for int() with base 10: 'a'"
     ]
    }
   ],
   "source": [
    "buscar_coord_jug()"
   ]
  },
  {
   "cell_type": "code",
   "execution_count": 39,
   "metadata": {},
   "outputs": [
    {
     "name": "stdout",
     "output_type": "stream",
     "text": [
      "                                                                                                                      \n",
      ",-----.  ,--.                                     ,--.   ,--.                                                         \n",
      "|  |) /_ `--' ,---. ,--,--,--.  ,--.,---. ,--,--, `--' ,-|  | ,---.      ,--,--.                                      \n",
      "|  .-.  \\,--.| .-. :|      \\  `'  /| .-. :|      \\,--.' .-. || .-. |    ' ,-.  |                                      \n",
      "|  '--' /|  |\\   --.|  ||  |\\    / \\   --.|  ||  ||  |\\ `-' |' '-' '    \\ '-'  |                                      \n",
      "`------' `--' `----'`--''--' `--'   `----'`--''--'`--' `---'  `---'      `--`--'                                      \n",
      "                                                                                                                      \n",
      "                                                                                                                      \n",
      ",--.  ,--.,--. ,--.,--.  ,--.,------.  ,--.,------.     ,--.     ,---.      ,------.,--.    ,-----.,--------. ,---.   \n",
      "|  '--'  ||  | |  ||  ,'.|  ||  .-.  \\ |  ||  .--. '    |  |    /  O  \\     |  .---'|  |   '  .-.  '--.  .--'/  O  \\  \n",
      "|  .--.  ||  | |  ||  |' '  ||  |  \\  :|  ||  '--'.'    |  |   |  .-.  |    |  `--, |  |   |  | |  |  |  |  |  .-.  | \n",
      "|  |  |  |'  '-'  '|  | `   ||  '--'  /|  ||  |\\  \\     |  '--.|  | |  |    |  |`   |  '--.'  '-'  '  |  |  |  | |  | \n",
      "`--'  `--' `-----' `--'  `--'`-------' `--'`--' '--'    `-----'`--' `--'    `--'    `-----' `-----'   `--'  `--' `--' \n",
      "                                                                                                                      \n"
     ]
    }
   ],
   "source": [
    "print('''                                                                                                                      \n",
    ",-----.  ,--.                                     ,--.   ,--.                                                         \n",
    "|  |) /_ `--' ,---. ,--,--,--.  ,--.,---. ,--,--, `--' ,-|  | ,---.      ,--,--.                                      \n",
    "|  .-.  \\,--.| .-. :|      \\  `'  /| .-. :|      \\,--.' .-. || .-. |    ' ,-.  |                                      \n",
    "|  '--' /|  |\\   --.|  ||  |\\    / \\   --.|  ||  ||  |\\ `-' |' '-' '    \\ '-'  |                                      \n",
    "`------' `--' `----'`--''--' `--'   `----'`--''--'`--' `---'  `---'      `--`--'                                      \n",
    "                                                                                                                      \n",
    "                                                                                                                      \n",
    ",--.  ,--.,--. ,--.,--.  ,--.,------.  ,--.,------.     ,--.     ,---.      ,------.,--.    ,-----.,--------. ,---.   \n",
    "|  '--'  ||  | |  ||  ,'.|  ||  .-.  \\ |  ||  .--. '    |  |    /  O  \\     |  .---'|  |   '  .-.  '--.  .--'/  O  \\  \n",
    "|  .--.  ||  | |  ||  |' '  ||  |  \\  :|  ||  '--'.'    |  |   |  .-.  |    |  `--, |  |   |  | |  |  |  |  |  .-.  | \n",
    "|  |  |  |'  '-'  '|  | `   ||  '--'  /|  ||  |\\  \\     |  '--.|  | |  |    |  |`   |  '--.'  '-'  '  |  |  |  | |  | \n",
    "`--'  `--' `-----' `--'  `--'`-------' `--'`--' '--'    `-----'`--' `--'    `--'    `-----' `-----'   `--'  `--' `--' \n",
    "                                                                                                                      ''')"
   ]
  },
  {
   "cell_type": "code",
   "execution_count": null,
   "metadata": {},
   "outputs": [],
   "source": []
  }
 ],
 "metadata": {
  "kernelspec": {
   "display_name": "Python 3",
   "language": "python",
   "name": "python3"
  },
  "language_info": {
   "codemirror_mode": {
    "name": "ipython",
    "version": 3
   },
   "file_extension": ".py",
   "mimetype": "text/x-python",
   "name": "python",
   "nbconvert_exporter": "python",
   "pygments_lexer": "ipython3",
   "version": "3.8.5"
  }
 },
 "nbformat": 4,
 "nbformat_minor": 4
}
