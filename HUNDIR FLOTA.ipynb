{
 "cells": [
  {
   "cell_type": "code",
   "execution_count": 2,
   "metadata": {},
   "outputs": [],
   "source": [
    "import numpy as np"
   ]
  },
  {
   "cell_type": "code",
   "execution_count": 5,
   "metadata": {},
   "outputs": [],
   "source": [
    "# CONSTANTES\n",
    "\n",
    "tablero_j1 = np.full((10,10), ' ')\n",
    "tablero_j2 = np.full((10,10), ' ')\n",
    "tablero_pc1 = np.full((10,10), ' ')\n",
    "tablero_pc2 = np.full((10,10), ' ')\n",
    "\n",
    "eslora_1 = 1 #x4\n",
    "eslora_2 = 2 #x3\n",
    "eslora_3 = 3 #x2\n",
    "eslora_4 = 4 #x1\n",
    "\n",
    "vidas = 20 "
   ]
  },
  {
   "cell_type": "code",
   "execution_count": 23,
   "metadata": {},
   "outputs": [
    {
     "name": "stdout",
     "output_type": "stream",
     "text": [
      "[['O' ' ' ' ' ' ' ' ' ' ' ' ' ' ' ' ' ' ']\n",
      " ['O' ' ' ' ' ' ' ' ' ' ' ' ' ' ' ' ' ' ']\n",
      " ['O' ' ' ' ' 'O' ' ' 'O' ' ' ' ' 'O' ' ']\n",
      " ['O' ' ' ' ' 'O' ' ' 'O' ' ' ' ' ' ' ' ']\n",
      " [' ' ' ' ' ' ' ' ' ' 'O' ' ' ' ' ' ' ' ']\n",
      " [' ' ' ' 'O' ' ' ' ' ' ' 'O' 'O' ' ' ' ']\n",
      " [' ' ' ' ' ' ' ' ' ' ' ' ' ' ' ' ' ' ' ']\n",
      " [' ' ' ' ' ' ' ' 'O' 'O' ' ' ' ' ' ' ' ']\n",
      " [' ' ' ' ' ' ' ' ' ' ' ' ' ' ' ' ' ' 'O']\n",
      " [' ' ' ' 'O' 'O' 'O' ' ' ' ' ' ' 'O' ' ']]\n"
     ]
    }
   ],
   "source": [
    "tablero_j1[0:4, 0] = 'O' # eslora 4\n",
    "tablero_j1[2:5, 5] = 'O' # eslora 3\n",
    "tablero_j1[-1, 2:5] = 'O' # eslora 3\n",
    "tablero_j1[5, 6:8] = 'O' # eslora 2\n",
    "tablero_j1[-3, 4:6] = 'O' # eslora 2\n",
    "tablero_j1[2:4, 3] = 'O' # es 2\n",
    "tablero_j1[5:6, 2] = 'O' # es 1\n",
    "tablero_j1[2:3, -2] = 'O' # es 1\n",
    "tablero_j1[8:9, -1] = 'O' # es 1\n",
    "tablero_j1[9, 8:9] = 'O' # es 1\n",
    "print(tablero_j1)"
   ]
  },
  {
   "cell_type": "code",
   "execution_count": 38,
   "metadata": {},
   "outputs": [
    {
     "name": "stdout",
     "output_type": "stream",
     "text": [
      "[[' ' ' ' ' ' 'O' 'O' ' ' ' ' ' ' 'O' ' ']\n",
      " [' ' ' ' ' ' ' ' ' ' ' ' ' ' ' ' 'O' ' ']\n",
      " [' ' 'O' ' ' ' ' ' ' ' ' ' ' ' ' 'O' ' ']\n",
      " [' ' 'O' ' ' ' ' ' ' ' ' 'O' ' ' ' ' ' ']\n",
      " [' ' ' ' ' ' ' ' ' ' ' ' ' ' ' ' ' ' 'O']\n",
      " [' ' ' ' 'O' 'O' 'O' 'O' ' ' ' ' ' ' ' ']\n",
      " [' ' ' ' ' ' ' ' ' ' ' ' ' ' ' ' ' ' ' ']\n",
      " [' ' ' ' 'O' ' ' ' ' ' ' ' ' ' ' ' ' ' ']\n",
      " [' ' ' ' 'O' ' ' ' ' ' ' 'O' 'O' 'O' ' ']\n",
      " ['O' ' ' ' ' ' ' 'O' ' ' ' ' ' ' ' ' ' ']]\n"
     ]
    }
   ],
   "source": [
    "tablero_pc1[5, 2:6] = 'O' # eslora 4\n",
    "tablero_pc1[0:3, 8] = 'O' # eslora 3\n",
    "tablero_pc1[8, 6:9] = 'O' # eslora 3\n",
    "tablero_pc1[7:9, 2] = 'O' # eslora 2\n",
    "tablero_pc1[0, 3:5] = 'O' # eslora 2\n",
    "tablero_pc1[2:4, 1] = 'O' # es 2\n",
    "tablero_pc1[3, -4] = 'O' # es 1\n",
    "tablero_pc1[9, 0] = 'O' # es 1\n",
    "tablero_pc1[9, 4] = 'O' # es 1\n",
    "tablero_pc1[4, 9] = 'O' # es 1\n",
    "print(tablero_pc1)"
   ]
  },
  {
   "cell_type": "code",
   "execution_count": 39,
   "metadata": {},
   "outputs": [],
   "source": [
    "def iniciar_tablero():\n",
    "    \n",
    "    tablero_pc1[5, 2:6] = 'O' # eslora 4\n",
    "    tablero_pc1[0:3, 8] = 'O' # eslora 3\n",
    "    tablero_pc1[8, 6:9] = 'O' # eslora 3\n",
    "    tablero_pc1[7:9, 2] = 'O' # eslora 2\n",
    "    tablero_pc1[0, 3:5] = 'O' # eslora 2\n",
    "    tablero_pc1[2:4, 1] = 'O' # es 2\n",
    "    tablero_pc1[3, -4] = 'O' # es 1\n",
    "    tablero_pc1[9, 0] = 'O' # es 1\n",
    "    tablero_pc1[9, 4] = 'O' # es 1\n",
    "    tablero_pc1[4, 9] = 'O' # es 1\n",
    "    \n",
    "    return tablero_pc1"
   ]
  },
  {
   "cell_type": "code",
   "execution_count": 41,
   "metadata": {},
   "outputs": [
    {
     "name": "stdout",
     "output_type": "stream",
     "text": [
      "[[' ' ' ' ' ' 'O' 'O' ' ' ' ' ' ' 'O' ' ']\n",
      " [' ' ' ' ' ' ' ' ' ' ' ' ' ' ' ' 'O' ' ']\n",
      " [' ' 'O' ' ' ' ' ' ' ' ' ' ' ' ' 'O' ' ']\n",
      " [' ' 'O' ' ' ' ' ' ' ' ' 'O' ' ' ' ' ' ']\n",
      " [' ' ' ' ' ' ' ' ' ' ' ' ' ' ' ' ' ' 'O']\n",
      " [' ' ' ' 'O' 'O' 'O' 'O' ' ' ' ' ' ' ' ']\n",
      " [' ' ' ' ' ' ' ' ' ' ' ' ' ' ' ' ' ' ' ']\n",
      " [' ' ' ' 'O' ' ' ' ' ' ' ' ' ' ' ' ' ' ']\n",
      " [' ' ' ' 'O' ' ' ' ' ' ' 'O' 'O' 'O' ' ']\n",
      " ['O' ' ' ' ' ' ' 'O' ' ' ' ' ' ' ' ' ' ']]\n"
     ]
    }
   ],
   "source": []
  },
  {
   "cell_type": "code",
   "execution_count": null,
   "metadata": {},
   "outputs": [],
   "source": []
  }
 ],
 "metadata": {
  "kernelspec": {
   "display_name": "Python 3",
   "language": "python",
   "name": "python3"
  },
  "language_info": {
   "codemirror_mode": {
    "name": "ipython",
    "version": 3
   },
   "file_extension": ".py",
   "mimetype": "text/x-python",
   "name": "python",
   "nbconvert_exporter": "python",
   "pygments_lexer": "ipython3",
   "version": "3.8.5"
  }
 },
 "nbformat": 4,
 "nbformat_minor": 4
}
